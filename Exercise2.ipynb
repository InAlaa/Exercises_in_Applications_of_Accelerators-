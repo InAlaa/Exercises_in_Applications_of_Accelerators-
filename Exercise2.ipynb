{
  "nbformat": 4,
  "nbformat_minor": 0,
  "metadata": {
    "colab": {
      "provenance": []
    },
    "kernelspec": {
      "name": "python3",
      "display_name": "Python 3"
    },
    "language_info": {
      "name": "python"
    }
  },
  "cells": [
    {
      "cell_type": "code",
      "execution_count": 3,
      "metadata": {
        "colab": {
          "base_uri": "https://localhost:8080/"
        },
        "id": "tellZHD_0lK_",
        "outputId": "503a5351-3a16-4d35-b11d-6a64178dbbb0"
      },
      "outputs": [
        {
          "output_type": "stream",
          "name": "stdout",
          "text": [
            "Mass number = 233\n",
            "Number of protons = 90\n",
            "\n",
            "\n",
            "Neutrons =  143\n"
          ]
        }
      ],
      "source": [
        "class neu:\n",
        "    \n",
        "    def __init__(self, x, y):\n",
        "        self.x = x\n",
        "        \n",
        "        self.y = y\n",
        "        \n",
        "        self.n = self.x - self.y\n",
        "    \n",
        "    def Print(self):\n",
        "      print('\\n\\nNeutrons = ',self.n)\n",
        "\n",
        "t1=neu(x=int(input('Mass number = ')) ,y=int(input('Number of protons = ')))\n",
        "t1.Print()"
      ]
    }
  ]
}
